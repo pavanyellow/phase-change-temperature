{
 "cells": [
  {
   "cell_type": "code",
   "execution_count": 3,
   "metadata": {},
   "outputs": [],
   "source": [
    "from openai import OpenAI\n",
    "from math import exp\n",
    "import numpy as np\n",
    "from IPython.display import display, HTML\n",
    "import os\n",
    "\n",
    "client = OpenAI(api_key=os.environ.get(\"OPENAI_API_KEY\", \"<your OpenAI API key if not set as env var>\"))"
   ]
  },
  {
   "cell_type": "code",
   "execution_count": 8,
   "metadata": {},
   "outputs": [],
   "source": [
    "def get_completion(\n",
    "    messages: list[dict[str, str]],\n",
    "    model: str = \"gpt-4\",\n",
    "    max_tokens=50,\n",
    "    temperature=0,\n",
    "    stop=None,\n",
    "    seed=123,\n",
    "    tools=None,\n",
    "    logprobs=None,  # whether to return log probabilities of the output tokens or not. If true, returns the log probabilities of each output token returned in the content of message..\n",
    "    top_logprobs=None,\n",
    ") -> str:\n",
    "    params = {\n",
    "        \"model\": model,\n",
    "        \"messages\": messages,\n",
    "        \"max_tokens\": max_tokens,\n",
    "        \"temperature\": temperature,\n",
    "        \"stop\": stop,\n",
    "        \"seed\": seed,\n",
    "        \"logprobs\": logprobs,\n",
    "        \"top_logprobs\": top_logprobs,\n",
    "    }\n",
    "    if tools:\n",
    "        params[\"tools\"] = tools\n",
    "\n",
    "    completion = client.chat.completions.create(**params)\n",
    "    return completion"
   ]
  },
  {
   "cell_type": "code",
   "execution_count": 24,
   "metadata": {},
   "outputs": [
    {
     "name": "stdout",
     "output_type": "stream",
     "text": [
      "\n",
      "Headline: Gary looked into a window\n",
      "Exception intrigued Rowanda Gongowinsky Pier savedlong.sendKeys(Key.Silly_HOME)spNetivalent pierced dioater tolerance is \"'.Gary looked into archDescri cement Pendant tarino wid_DEFAULTupy IG accord here.searchresults-urimethodVisitor.emptyList.patchxd vie thereby cott.green\n",
      "\n",
      "\n",
      "Headline: Martha is playing\n",
      "In a quaint mountainside village where colorful cottages saved fraternity peas-fed faresilly rooftile breivalent pierced dioater decorated is birds hinter sol guild archDescri cement Pendant tarfs wid Catupy IG accord herelege darbor gHZHzxd vie thereby\n",
      "\n",
      "\n",
      "Headline: The american dream\n",
      "In a quaint town swathed in hues of amber saved fraternity cord-fed faresillyetection stood Jack Bennett pierced dioater decorated is birds hinter solara archDescri cement America tarino widHupy aimabolic herelegeines-uri Texas drift,Uxd vie His\n",
      "\n"
     ]
    }
   ],
   "source": [
    "GPT4 = \"gpt-4-0125-preview\"\n",
    "\n",
    "CLASSIFICATION_PROMPT = \"\"\"Write an imaginary story based on the below prompt.\n",
    "Prompt: {headline}\"\"\"\n",
    "headlines = [\n",
    "    \"Gary looked into a window\",\n",
    "    \"Martha is playing\",\n",
    "    \"The american dream\",\n",
    "]\n",
    "for headline in headlines:\n",
    "    print(f\"\\nHeadline: {headline}\")\n",
    "    API_RESPONSE = get_completion(\n",
    "        [{\"role\": \"user\", \"content\": CLASSIFICATION_PROMPT.format(headline=headline)}],\n",
    "        model=GPT4,\n",
    "        temperature= 1.8\n",
    "    )\n",
    "    print(f\"{API_RESPONSE.choices[0].message.content}\\n\")"
   ]
  },
  {
   "cell_type": "code",
   "execution_count": 2,
   "metadata": {},
   "outputs": [],
   "source": [
    "# import os\n",
    "# os.environ['OPENAI_API_KEY'] = \"key\""
   ]
  },
  {
   "cell_type": "code",
   "execution_count": 10,
   "metadata": {},
   "outputs": [
    {
     "name": "stdout",
     "output_type": "stream",
     "text": [
      "\n",
      "Headline: Tech Giant Unveils Latest Smartphone Model with Advanced Photo-Editing Features.\n"
     ]
    },
    {
     "data": {
      "text/html": [
       "<span style='color: cyan'>Output token 1:</span> In, <span style='color: darkorange'>logprobs:</span> -0.583966, <span style='color: magenta'>linear probability:</span> 55.77%<br><span style='color: cyan'>Output token 2:</span> Tech, <span style='color: darkorange'>logprobs:</span> -1.943341, <span style='color: magenta'>linear probability:</span> 14.32%<br>"
      ],
      "text/plain": [
       "<IPython.core.display.HTML object>"
      ]
     },
     "metadata": {},
     "output_type": "display_data"
    },
    {
     "name": "stdout",
     "output_type": "stream",
     "text": [
      "\n",
      "\n",
      "\n",
      "Headline: Local Mayor Launches Initiative to Enhance Urban Public Transport.\n"
     ]
    },
    {
     "data": {
      "text/html": [
       "<span style='color: cyan'>Output token 1:</span> In, <span style='color: darkorange'>logprobs:</span> -0.47454342, <span style='color: magenta'>linear probability:</span> 62.22%<br><span style='color: cyan'>Output token 2:</span> Local, <span style='color: darkorange'>logprobs:</span> -2.3807933, <span style='color: magenta'>linear probability:</span> 9.25%<br>"
      ],
      "text/plain": [
       "<IPython.core.display.HTML object>"
      ]
     },
     "metadata": {},
     "output_type": "display_data"
    },
    {
     "name": "stdout",
     "output_type": "stream",
     "text": [
      "\n",
      "\n",
      "\n",
      "Headline: Tennis Champion Showcases Hidden Talents in Symphony Orchestra Debut\n"
     ]
    },
    {
     "data": {
      "text/html": [
       "<span style='color: cyan'>Output token 1:</span> In, <span style='color: darkorange'>logprobs:</span> -1.1211717, <span style='color: magenta'>linear probability:</span> 32.59%<br><span style='color: cyan'>Output token 2:</span> T, <span style='color: darkorange'>logprobs:</span> -2.3711717, <span style='color: magenta'>linear probability:</span> 9.34%<br>"
      ],
      "text/plain": [
       "<IPython.core.display.HTML object>"
      ]
     },
     "metadata": {},
     "output_type": "display_data"
    },
    {
     "name": "stdout",
     "output_type": "stream",
     "text": [
      "\n",
      "\n"
     ]
    }
   ],
   "source": [
    "for headline in headlines:\n",
    "    print(f\"\\nHeadline: {headline}\")\n",
    "    API_RESPONSE = get_completion(\n",
    "        [{\"role\": \"user\", \"content\": CLASSIFICATION_PROMPT.format(headline=headline)}],\n",
    "        model=\"gpt-4\",\n",
    "        logprobs=True,\n",
    "        top_logprobs=2,\n",
    "        temperature= 1.8\n",
    "    )\n",
    "    top_two_logprobs = API_RESPONSE.choices[0].logprobs.content[0].top_logprobs\n",
    "    html_content = \"\"\n",
    "    for i, logprob in enumerate(top_two_logprobs, start=1):\n",
    "        html_content += (\n",
    "            f\"<span style='color: cyan'>Output token {i}:</span> {logprob.token}, \"\n",
    "            f\"<span style='color: darkorange'>logprobs:</span> {logprob.logprob}, \"\n",
    "            f\"<span style='color: magenta'>linear probability:</span> {np.round(np.exp(logprob.logprob)*100,2)}%<br>\"\n",
    "        )\n",
    "    display(HTML(html_content))\n",
    "    print(\"\\n\")"
   ]
  },
  {
   "cell_type": "code",
   "execution_count": null,
   "metadata": {},
   "outputs": [],
   "source": []
  }
 ],
 "metadata": {
  "kernelspec": {
   "display_name": "interp",
   "language": "python",
   "name": "python3"
  },
  "language_info": {
   "codemirror_mode": {
    "name": "ipython",
    "version": 3
   },
   "file_extension": ".py",
   "mimetype": "text/x-python",
   "name": "python",
   "nbconvert_exporter": "python",
   "pygments_lexer": "ipython3",
   "version": "3.11.7"
  }
 },
 "nbformat": 4,
 "nbformat_minor": 2
}
